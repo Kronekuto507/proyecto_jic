{
 "cells": [
  {
   "cell_type": "code",
   "execution_count": 1,
   "id": "263a260c-0f83-4c6d-b478-3e31c1eee2de",
   "metadata": {},
   "outputs": [],
   "source": [
    "import cv2 as cv\n",
    "import sys\n",
    "import os\n",
    "import matplotlib.pyplot as plt\n",
    "import mediapipe as mp"
   ]
  },
  {
   "cell_type": "code",
   "execution_count": 2,
   "id": "0dfe1da0-0610-4d44-b7c6-a5aeb3f33e98",
   "metadata": {},
   "outputs": [],
   "source": [
    "mp_hands = mp.solutions.hands\n",
    "#Capturar manos\n",
    "hands = mp_hands.Hands()"
   ]
  },
  {
   "cell_type": "code",
   "execution_count": null,
   "id": "825b21df-31b9-4e86-a5a1-957a406922c5",
   "metadata": {},
   "outputs": [],
   "source": [
    "s= 0\n",
    "if len(sys.argv)> 1:\n",
    "    s= sys.argv[1]\n",
    "print(s)\n",
    "source= cv.VideoCapture(0)\n",
    "\n",
    "win_name= 'Camera Preview'\n",
    "cv.namedWindow(win_name, cv.WINDOW_NORMAL)\n",
    "\n",
    "is_capturing = False\n",
    "#Enlazar manos al landmark\n",
    "while cv.waitKey(1)!= 27:# Escape\n",
    "    has_frame, frame= source.read()\n",
    "    frame = cv.flip(frame,1)\n",
    "    results = hands.process(frame)\n",
    "    if results.multi_hand_landmarks:\n",
    "            for hand_landmarks in results.multi_hand_landmarks:\n",
    "                x_min = y_min = float('inf')\n",
    "                x_max = y_max = float('-inf')\n",
    "            \n",
    "                for lm in hand_landmarks.landmark:\n",
    "                    x, y = int(lm.x * frame.shape[1]), int(lm.y * frame.shape[0])\n",
    "                    x_min = min(x_min, x)\n",
    "                    y_min = min(y_min, y)\n",
    "                    x_max = max(x_max, x)\n",
    "                    y_max = max(y_max, y)\n",
    "                # Dibujar bbox de la mano\n",
    "                cv.rectangle(frame, (x_min - 35, y_min - 35), (x_max + 35, y_max + 35), (255, 255, 0), 2)\n",
    "                #Mostrar prediccion cuando se esta capturando\n",
    "                if is_capturing:\n",
    "                    #Aqui se capturara el frame que el transformer analizara\n",
    "                    cv.putText(frame,\"Letra:  Lenguaje de Signos: \",(x_min - 35, y_min - 35),cv.FONT_HERSHEY_SIMPLEX,0.5,(255,0,0),2)\n",
    "    if  not has_frame:\n",
    "       break\n",
    "    if is_capturing:\n",
    "        cv.putText(frame,'Capturando...',(50,50),cv.FONT_HERSHEY_SIMPLEX, 0.9, (255, 0, 0), 2)\n",
    "    key = cv.waitKey(1) & 0xFF\n",
    "    if key == ord('c'):\n",
    "        is_capturing = True\n",
    "    elif key == ord('v'):\n",
    "        is_capturing = False\n",
    "    cv.imshow(win_name, frame)\n",
    "source.release()\n",
    "cv.destroyWindow(win_name)"
   ]
  }
 ],
 "metadata": {
  "kernelspec": {
   "display_name": "Python 3 (ipykernel)",
   "language": "python",
   "name": "python3"
  },
  "language_info": {
   "codemirror_mode": {
    "name": "ipython",
    "version": 3
   },
   "file_extension": ".py",
   "mimetype": "text/x-python",
   "name": "python",
   "nbconvert_exporter": "python",
   "pygments_lexer": "ipython3",
   "version": "3.11.5"
  }
 },
 "nbformat": 4,
 "nbformat_minor": 5
}
