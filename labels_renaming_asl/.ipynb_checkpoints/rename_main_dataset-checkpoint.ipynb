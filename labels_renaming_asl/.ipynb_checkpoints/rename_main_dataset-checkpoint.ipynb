{
 "cells": [
  {
   "cell_type": "code",
   "execution_count": 4,
   "id": "1b586640-0f9f-4b2c-9106-7494e6e692f1",
   "metadata": {},
   "outputs": [],
   "source": [
    "from rename_dataset_asl import ordenar,create_dictionary_from_path\n",
    "from pathlib import Path\n",
    "import os\n",
    "\n",
    "lists = Path(\"..\\datasets\\ASL_Dataset_Combination\")"
   ]
  },
  {
   "cell_type": "code",
   "execution_count": 7,
   "id": "dd2c79d5-68f3-4f4d-9a83-a31550ca8823",
   "metadata": {},
   "outputs": [
    {
     "ename": "FileExistsError",
     "evalue": "[WinError 183] Cannot create a file when that file already exists: '..\\\\datasets\\\\ASL_Dataset_Combination\\\\A\\\\A_ASL10.jpg' -> '..\\\\datasets\\\\ASL_Dataset_Combination\\\\A\\\\A_ASL2.jpg'",
     "output_type": "error",
     "traceback": [
      "\u001b[1;31m---------------------------------------------------------------------------\u001b[0m",
      "\u001b[1;31mFileExistsError\u001b[0m                           Traceback (most recent call last)",
      "Cell \u001b[1;32mIn[7], line 12\u001b[0m\n\u001b[0;32m     10\u001b[0m     \u001b[38;5;28;01mpass\u001b[39;00m\n\u001b[0;32m     11\u001b[0m \u001b[38;5;28;01melse\u001b[39;00m:\n\u001b[1;32m---> 12\u001b[0m     \u001b[43mos\u001b[49m\u001b[38;5;241;43m.\u001b[39;49m\u001b[43mrename\u001b[49m\u001b[43m(\u001b[49m\u001b[43mold\u001b[49m\u001b[43m,\u001b[49m\u001b[43mnew\u001b[49m\u001b[43m)\u001b[49m\n",
      "\u001b[1;31mFileExistsError\u001b[0m: [WinError 183] Cannot create a file when that file already exists: '..\\\\datasets\\\\ASL_Dataset_Combination\\\\A\\\\A_ASL10.jpg' -> '..\\\\datasets\\\\ASL_Dataset_Combination\\\\A\\\\A_ASL2.jpg'"
     ]
    }
   ],
   "source": [
    "\n",
    "for j, subdir in enumerate(os.listdir(lists)):\n",
    "    path = os.path.join(lists, subdir)\n",
    "    for i, item in enumerate(os.listdir(path)):\n",
    "        old_file_name = item\n",
    "        new_file_name = path[-1] + \"_ASL\" + str(i + 1) + item[-4:]\n",
    "        old = os.path.join(path, old_file_name)\n",
    "        new = os.path.join(path, new_file_name)\n",
    "        if old_file_name == new_file_name:\n",
    "            pass\n",
    "        else:\n",
    "            if os.path.exists(new):\n",
    "                print(f\"File {new} already exists. Skipping renaming of {old}\")\n",
    "                continue\n",
    "            os.rename(old, new)"
   ]
  },
  {
   "cell_type": "code",
   "execution_count": 2,
   "id": "ddcd2458-d6b0-476c-b794-6d8d478e4c5c",
   "metadata": {},
   "outputs": [
    {
     "data": {
      "text/plain": [
       "[WindowsPath('../datasets/ASL_Dataset_Combination')]"
      ]
     },
     "execution_count": 2,
     "metadata": {},
     "output_type": "execute_result"
    }
   ],
   "source": [
    "lists"
   ]
  },
  {
   "cell_type": "code",
   "execution_count": null,
   "id": "bad2ad7d-279f-4346-adbe-88b43b476c33",
   "metadata": {},
   "outputs": [],
   "source": []
  },
  {
   "cell_type": "code",
   "execution_count": null,
   "id": "e6530f02-b482-4411-9956-b05f77c56220",
   "metadata": {},
   "outputs": [],
   "source": []
  }
 ],
 "metadata": {
  "kernelspec": {
   "display_name": "Python 3 (ipykernel)",
   "language": "python",
   "name": "python3"
  },
  "language_info": {
   "codemirror_mode": {
    "name": "ipython",
    "version": 3
   },
   "file_extension": ".py",
   "mimetype": "text/x-python",
   "name": "python",
   "nbconvert_exporter": "python",
   "pygments_lexer": "ipython3",
   "version": "3.11.5"
  }
 },
 "nbformat": 4,
 "nbformat_minor": 5
}
