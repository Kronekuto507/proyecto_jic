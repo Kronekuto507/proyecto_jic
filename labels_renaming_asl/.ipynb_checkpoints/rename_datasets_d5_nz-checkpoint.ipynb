{
 "cells": [
  {
   "cell_type": "code",
   "execution_count": 1,
   "id": "429cdfea-c695-44df-a760-c7b45b8ec169",
   "metadata": {},
   "outputs": [],
   "source": [
    "import os\n",
    "from pathlib import Path"
   ]
  },
  {
   "cell_type": "code",
   "execution_count": 2,
   "id": "f1d463db-593d-4e80-a248-36cd7842056f",
   "metadata": {},
   "outputs": [],
   "source": [
    "ASL_Size = [3602,\n",
    " 3619,\n",
    " 3518,\n",
    " 3452,\n",
    " 3653,\n",
    " 3504,\n",
    " 3430,\n",
    " 3435,\n",
    " 3434,\n",
    " 3393,\n",
    " 3418,\n",
    " 3348,\n",
    " 3360,\n",
    " 3459,\n",
    " 3307,\n",
    " 3344,\n",
    " 3356,\n",
    " 3366,\n",
    " 3357,\n",
    " 3343,\n",
    " 3394,\n",
    " 3401,\n",
    " 3361,\n",
    " 3376]"
   ]
  },
  {
   "cell_type": "code",
   "execution_count": 6,
   "id": "640edbd5-5bfa-42db-9aaa-7ab35c0506ba",
   "metadata": {},
   "outputs": [],
   "source": [
    "path = Path(\"..\\datasets\\dataser5_unificado\")\n",
    "for i,subdir in enumerate(os.listdir(path)):\n",
    "    p_letter = os.path.join(path,subdir)\n",
    "    for j,file in enumerate(os.listdir(p_letter)):\n",
    "        file_p = os.path.join(p_letter,file)\n",
    "        os.rename(file_p,os.path.join(p_letter,subdir + \"_ASL\" + str(ASL_Size[i] + (j + 1)) + \".png\"))"
   ]
  },
  {
   "cell_type": "code",
   "execution_count": 9,
   "id": "27803368-5037-4708-b41f-2547f784c808",
   "metadata": {},
   "outputs": [],
   "source": [
    "main_path = Path(\"..\\\\datasets\\\\ASL_Dataset_Combination\")\n",
    "ASL_New_Size = [int(len(os.listdir(os.path.join(main_path,subdir)))) for subdir in os.listdir(main_path)]"
   ]
  },
  {
   "cell_type": "code",
   "execution_count": 10,
   "id": "8815ccb8-2617-4e70-966d-903606f7e49f",
   "metadata": {},
   "outputs": [
    {
     "data": {
      "text/plain": [
       "[6286,\n",
       " 6408,\n",
       " 6435,\n",
       " 6148,\n",
       " 6375,\n",
       " 6130,\n",
       " 6125,\n",
       " 6153,\n",
       " 6093,\n",
       " 6591,\n",
       " 6233,\n",
       " 6113,\n",
       " 6068,\n",
       " 6132,\n",
       " 6180,\n",
       " 6040,\n",
       " 6318,\n",
       " 6428,\n",
       " 5981,\n",
       " 6014,\n",
       " 6253,\n",
       " 6632,\n",
       " 6192,\n",
       " 6046]"
      ]
     },
     "execution_count": 10,
     "metadata": {},
     "output_type": "execute_result"
    }
   ],
   "source": [
    "ASL_New_Size"
   ]
  },
  {
   "cell_type": "code",
   "execution_count": 11,
   "id": "0bfa85aa-2130-4003-a6e1-0b01b21fc855",
   "metadata": {},
   "outputs": [
    {
     "ename": "OSError",
     "evalue": "[WinError 123] The filename, directory name, or volume label syntax is incorrect: '..\\\\datasets\\nz_dataset'",
     "output_type": "error",
     "traceback": [
      "\u001b[1;31m---------------------------------------------------------------------------\u001b[0m",
      "\u001b[1;31mOSError\u001b[0m                                   Traceback (most recent call last)",
      "Cell \u001b[1;32mIn[11], line 2\u001b[0m\n\u001b[0;32m      1\u001b[0m path \u001b[38;5;241m=\u001b[39m Path(\u001b[38;5;124m\"\u001b[39m\u001b[38;5;124m..\u001b[39m\u001b[38;5;124m\\\u001b[39m\u001b[38;5;124mdatasets\u001b[39m\u001b[38;5;130;01m\\n\u001b[39;00m\u001b[38;5;124mz_dataset\u001b[39m\u001b[38;5;124m\"\u001b[39m)\n\u001b[1;32m----> 2\u001b[0m \u001b[38;5;28;01mfor\u001b[39;00m i,subdir \u001b[38;5;129;01min\u001b[39;00m \u001b[38;5;28menumerate\u001b[39m(\u001b[43mos\u001b[49m\u001b[38;5;241;43m.\u001b[39;49m\u001b[43mlistdir\u001b[49m\u001b[43m(\u001b[49m\u001b[43mpath\u001b[49m\u001b[43m)\u001b[49m):\n\u001b[0;32m      3\u001b[0m     p_letter \u001b[38;5;241m=\u001b[39m os\u001b[38;5;241m.\u001b[39mpath\u001b[38;5;241m.\u001b[39mjoin(path,subdir)\n\u001b[0;32m      4\u001b[0m     \u001b[38;5;28;01mfor\u001b[39;00m j,file \u001b[38;5;129;01min\u001b[39;00m \u001b[38;5;28menumerate\u001b[39m(os\u001b[38;5;241m.\u001b[39mlistdir(p_letter)):\n",
      "\u001b[1;31mOSError\u001b[0m: [WinError 123] The filename, directory name, or volume label syntax is incorrect: '..\\\\datasets\\nz_dataset'"
     ]
    }
   ],
   "source": [
    "path = Path(\"..\\\\datasets\\\\nz_dataset\")\n",
    "for i,subdir in enumerate(os.listdir(path)):\n",
    "    p_letter = os.path.join(path,subdir)\n",
    "    for j,file in enumerate(os.listdir(p_letter)):\n",
    "        file_p = os.path.join(p_letter,file)\n",
    "        os.rename(file_p,os.path.join(p_letter,subdir + \"_ASL\" + str(ASL_New_Size[i] + (j + 1)) + \".png\"))"
   ]
  },
  {
   "cell_type": "code",
   "execution_count": null,
   "id": "b325f807-886b-45e2-904a-04654ae433b1",
   "metadata": {},
   "outputs": [],
   "source": []
  }
 ],
 "metadata": {
  "kernelspec": {
   "display_name": "Python 3 (ipykernel)",
   "language": "python",
   "name": "python3"
  },
  "language_info": {
   "codemirror_mode": {
    "name": "ipython",
    "version": 3
   },
   "file_extension": ".py",
   "mimetype": "text/x-python",
   "name": "python",
   "nbconvert_exporter": "python",
   "pygments_lexer": "ipython3",
   "version": "3.11.5"
  }
 },
 "nbformat": 4,
 "nbformat_minor": 5
}
