{
 "cells": [
  {
   "cell_type": "code",
   "execution_count": 1,
   "id": "3335c2e8-c200-4db6-b920-a07dc873f6b6",
   "metadata": {},
   "outputs": [
    {
     "name": "stderr",
     "output_type": "stream",
     "text": [
      "c:\\Users\\aaron\\Desktop\\Programacion\\proyecto_jic\\.venv\\Lib\\site-packages\\tqdm\\auto.py:21: TqdmWarning: IProgress not found. Please update jupyter and ipywidgets. See https://ipywidgets.readthedocs.io/en/stable/user_install.html\n",
      "  from .autonotebook import tqdm as notebook_tqdm\n"
     ]
    }
   ],
   "source": [
    "import cv2 as cv\n",
    "import sys\n",
    "import os\n",
    "import mediapipe as mp\n",
    "from transformers import ViTForImageClassification, ViTFeatureExtractor\n",
    "from PIL import Image\n",
    "import torch\n",
    "from torchvision import transforms\n",
    "import numpy as np\n",
    "from pathlib import Path\n",
    "from torch.nn import functional as F"
   ]
  },
  {
   "cell_type": "code",
   "execution_count": 2,
   "id": "29acd8b2",
   "metadata": {},
   "outputs": [
    {
     "name": "stderr",
     "output_type": "stream",
     "text": [
      "c:\\Users\\aaron\\Desktop\\Programacion\\proyecto_jic\\.venv\\Lib\\site-packages\\transformers\\models\\vit\\feature_extraction_vit.py:28: FutureWarning: The class ViTFeatureExtractor is deprecated and will be removed in version 5 of Transformers. Please use ViTImageProcessor instead.\n",
      "  warnings.warn(\n"
     ]
    }
   ],
   "source": [
    "model_path = \"../model/checkpoint-1291\"\n",
    "model = ViTForImageClassification.from_pretrained(model_path)\n",
    "feature_extractor = ViTFeatureExtractor.from_pretrained('google/vit-base-patch16-224')"
   ]
  },
  {
   "cell_type": "code",
   "execution_count": 3,
   "id": "a3f3c722",
   "metadata": {},
   "outputs": [
    {
     "data": {
      "text/plain": [
       "ViTForImageClassification(\n",
       "  (vit): ViTModel(\n",
       "    (embeddings): ViTEmbeddings(\n",
       "      (patch_embeddings): ViTPatchEmbeddings(\n",
       "        (projection): Conv2d(3, 768, kernel_size=(16, 16), stride=(16, 16))\n",
       "      )\n",
       "      (dropout): Dropout(p=0.0, inplace=False)\n",
       "    )\n",
       "    (encoder): ViTEncoder(\n",
       "      (layer): ModuleList(\n",
       "        (0-11): 12 x ViTLayer(\n",
       "          (attention): ViTSdpaAttention(\n",
       "            (attention): ViTSdpaSelfAttention(\n",
       "              (query): Linear(in_features=768, out_features=768, bias=True)\n",
       "              (key): Linear(in_features=768, out_features=768, bias=True)\n",
       "              (value): Linear(in_features=768, out_features=768, bias=True)\n",
       "              (dropout): Dropout(p=0.0, inplace=False)\n",
       "            )\n",
       "            (output): ViTSelfOutput(\n",
       "              (dense): Linear(in_features=768, out_features=768, bias=True)\n",
       "              (dropout): Dropout(p=0.0, inplace=False)\n",
       "            )\n",
       "          )\n",
       "          (intermediate): ViTIntermediate(\n",
       "            (dense): Linear(in_features=768, out_features=3072, bias=True)\n",
       "            (intermediate_act_fn): GELUActivation()\n",
       "          )\n",
       "          (output): ViTOutput(\n",
       "            (dense): Linear(in_features=3072, out_features=768, bias=True)\n",
       "            (dropout): Dropout(p=0.0, inplace=False)\n",
       "          )\n",
       "          (layernorm_before): LayerNorm((768,), eps=1e-12, elementwise_affine=True)\n",
       "          (layernorm_after): LayerNorm((768,), eps=1e-12, elementwise_affine=True)\n",
       "        )\n",
       "      )\n",
       "    )\n",
       "    (layernorm): LayerNorm((768,), eps=1e-12, elementwise_affine=True)\n",
       "  )\n",
       "  (classifier): Linear(in_features=768, out_features=24, bias=True)\n",
       ")"
      ]
     },
     "execution_count": 3,
     "metadata": {},
     "output_type": "execute_result"
    }
   ],
   "source": [
    "model.eval()"
   ]
  },
  {
   "cell_type": "code",
   "execution_count": 4,
   "id": "2632ff92",
   "metadata": {},
   "outputs": [
    {
     "data": {
      "text/plain": [
       "ViTForImageClassification(\n",
       "  (vit): ViTModel(\n",
       "    (embeddings): ViTEmbeddings(\n",
       "      (patch_embeddings): ViTPatchEmbeddings(\n",
       "        (projection): Conv2d(3, 768, kernel_size=(16, 16), stride=(16, 16))\n",
       "      )\n",
       "      (dropout): Dropout(p=0.0, inplace=False)\n",
       "    )\n",
       "    (encoder): ViTEncoder(\n",
       "      (layer): ModuleList(\n",
       "        (0-11): 12 x ViTLayer(\n",
       "          (attention): ViTSdpaAttention(\n",
       "            (attention): ViTSdpaSelfAttention(\n",
       "              (query): Linear(in_features=768, out_features=768, bias=True)\n",
       "              (key): Linear(in_features=768, out_features=768, bias=True)\n",
       "              (value): Linear(in_features=768, out_features=768, bias=True)\n",
       "              (dropout): Dropout(p=0.0, inplace=False)\n",
       "            )\n",
       "            (output): ViTSelfOutput(\n",
       "              (dense): Linear(in_features=768, out_features=768, bias=True)\n",
       "              (dropout): Dropout(p=0.0, inplace=False)\n",
       "            )\n",
       "          )\n",
       "          (intermediate): ViTIntermediate(\n",
       "            (dense): Linear(in_features=768, out_features=3072, bias=True)\n",
       "            (intermediate_act_fn): GELUActivation()\n",
       "          )\n",
       "          (output): ViTOutput(\n",
       "            (dense): Linear(in_features=3072, out_features=768, bias=True)\n",
       "            (dropout): Dropout(p=0.0, inplace=False)\n",
       "          )\n",
       "          (layernorm_before): LayerNorm((768,), eps=1e-12, elementwise_affine=True)\n",
       "          (layernorm_after): LayerNorm((768,), eps=1e-12, elementwise_affine=True)\n",
       "        )\n",
       "      )\n",
       "    )\n",
       "    (layernorm): LayerNorm((768,), eps=1e-12, elementwise_affine=True)\n",
       "  )\n",
       "  (classifier): Linear(in_features=768, out_features=24, bias=True)\n",
       ")"
      ]
     },
     "execution_count": 4,
     "metadata": {},
     "output_type": "execute_result"
    }
   ],
   "source": [
    "classes = [label for label in os.listdir(Path(\"..\\\\datasets\\ASL\\ASL_train\"))]\n",
    "device = torch.device(\"cuda\" if torch.cuda.is_available() else \"cpu\")\n",
    "model.to(device)"
   ]
  },
  {
   "cell_type": "code",
   "execution_count": 5,
   "id": "353b2772",
   "metadata": {},
   "outputs": [],
   "source": [
    "def return_prob_clas(cv2_image):\n",
    "\n",
    "    def get_image(cv2_img):\n",
    "        preprocess = transforms.Compose([\n",
    "        transforms.Resize((224,224)),\n",
    "        transforms.ToTensor(),\n",
    "        ])\n",
    "        image = Image.fromarray(cv2_img)\n",
    "        image = preprocess(image)\n",
    "        image = image.unsqueeze(0)\n",
    "        return image\n",
    "    image = get_image(cv2_image)\n",
    "    image =image.to(device)\n",
    "    with torch.no_grad():\n",
    "        outputs = model(image)\n",
    "    probabilities= F.softmax(outputs.logits,dim=1)\n",
    "    predicted_class = probabilities.argmax(-1).item()\n",
    "    prediction = probabilities[0,predicted_class].item()\n",
    "    return classes[predicted_class],prediction\n"
   ]
  },
  {
   "cell_type": "code",
   "execution_count": 6,
   "id": "1e02d7c9",
   "metadata": {},
   "outputs": [],
   "source": [
    "def crop(frame,y_min,y_max,x_min,x_max):\n",
    "    return frame[ y_min - 35:y_max + 35,x_min - 35:x_max + 35]"
   ]
  },
  {
   "cell_type": "code",
   "execution_count": 7,
   "id": "1b883c7a-4809-4e5d-b19e-fea7bf02a86f",
   "metadata": {},
   "outputs": [],
   "source": [
    "mp_drawing = mp.solutions.drawing_utils\n",
    "mp_drawing_styles = mp.solutions.drawing_styles\n",
    "mp_hands = mp.solutions.hands\n",
    "\n",
    "#Capturar manos\n",
    "hands = mp_hands.Hands()"
   ]
  },
  {
   "cell_type": "code",
   "execution_count": 8,
   "id": "3316a8cc-5660-4b1b-8039-2310973506bb",
   "metadata": {},
   "outputs": [
    {
     "name": "stdout",
     "output_type": "stream",
     "text": [
      "--f=c:\\Users\\aaron\\AppData\\Roaming\\jupyter\\runtime\\kernel-v2-28164E5cu2yXcoVzY.json\n"
     ]
    },
    {
     "name": "stderr",
     "output_type": "stream",
     "text": [
      "c:\\Users\\aaron\\Desktop\\Programacion\\proyecto_jic\\.venv\\Lib\\site-packages\\google\\protobuf\\symbol_database.py:55: UserWarning: SymbolDatabase.GetPrototype() is deprecated. Please use message_factory.GetMessageClass() instead. SymbolDatabase.GetPrototype() will be removed soon.\n",
      "  warnings.warn('SymbolDatabase.GetPrototype() is deprecated. Please '\n",
      "c:\\Users\\aaron\\Desktop\\Programacion\\proyecto_jic\\.venv\\Lib\\site-packages\\transformers\\models\\vit\\modeling_vit.py:253: UserWarning: 1Torch was not compiled with flash attention. (Triggered internally at ..\\aten\\src\\ATen\\native\\transformers\\cuda\\sdp_utils.cpp:455.)\n",
      "  context_layer = torch.nn.functional.scaled_dot_product_attention(\n"
     ]
    }
   ],
   "source": [
    "s= 0\n",
    "if len(sys.argv)> 1:\n",
    "    s= sys.argv[1]\n",
    "print(s)\n",
    "source= cv.VideoCapture(0)\n",
    "\n",
    "win_name= 'Camera Preview'\n",
    "cv.namedWindow(win_name, cv.WINDOW_NORMAL)\n",
    "\n",
    "is_capturing = False\n",
    "#Enlazar manos al landmark\n",
    "while cv.waitKey(1)!= 27:# Escape\n",
    "    has_frame, frame= source.read()\n",
    "    frame = cv.flip(frame,1)\n",
    "    if not has_frame:\n",
    "        break\n",
    "    results = hands.process(frame)\n",
    "    if results.multi_hand_landmarks:\n",
    "            for hand_landmarks in results.multi_hand_landmarks:\n",
    "                x_min = y_min = float('inf')\n",
    "                x_max = y_max = float('-inf')\n",
    "            \n",
    "                for lm in hand_landmarks.landmark:\n",
    "                    x, y = int(lm.x * frame.shape[1]), int(lm.y * frame.shape[0])\n",
    "                    x_min = min(x_min, x)\n",
    "                    y_min = min(y_min, y)\n",
    "                    x_max = max(x_max, x)\n",
    "                    y_max = max(y_max, y)\n",
    "                # Dibujar bbox de la mano\n",
    "                cv.rectangle(frame, (x_min - 35, y_min - 35), (x_max + 35, y_max + 35), (255, 255, 0), 2)\n",
    "                #Mostrar prediccion cuando se esta capturando\n",
    "                if is_capturing:\n",
    "                    try:\n",
    "                        cropped_frame = crop(frame=frame,y_min=y_min,y_max=y_max,x_min=x_min,x_max=x_max)\n",
    "                        label,prediction = return_prob_clas(cropped_frame)\n",
    "                        #Aqui se capturara el frame que el transformer analizara\n",
    "                        cv.putText(frame,f\"Letra: {label[0]}  Lengua de Signos: {label[2:]} Probabilidad: {prediction}\",(x_min - 35, y_min - 35),cv.FONT_HERSHEY_SIMPLEX,0.5,(255,0,0),2)\n",
    "                    except Exception as e:\n",
    "                        print(e)\n",
    "                        cv.putText(frame,f\"Error al procesar\",(x_min - 35, y_min - 35),cv.FONT_HERSHEY_SIMPLEX,0.5,(255,0,0),2)\n",
    "    if  not has_frame:\n",
    "       break\n",
    "    if is_capturing:\n",
    "        cv.putText(frame,'Capturando...',(50,50),cv.FONT_HERSHEY_SIMPLEX, 0.9, (255, 0, 0), 2)\n",
    "    else:\n",
    "        cv.putText(frame,f'Modelo en uso: {model_path[8:]}',(50,50),cv.FONT_HERSHEY_SIMPLEX,0.6,(255, 0, 0), 2)\n",
    "    key = cv.waitKey(1) & 0xFF\n",
    "    if key == ord('c'):\n",
    "        is_capturing = True\n",
    "    elif key == ord('v'):\n",
    "        is_capturing = False\n",
    "    cv.imshow(win_name, frame)\n",
    "source.release()\n",
    "cv.destroyWindow(win_name)"
   ]
  },
  {
   "cell_type": "code",
   "execution_count": null,
   "id": "62edf3cc-bfb6-42d4-9468-5bdf12d61b10",
   "metadata": {},
   "outputs": [],
   "source": []
  },
  {
   "cell_type": "code",
   "execution_count": null,
   "id": "e6b3e1dd-6584-4ce8-a819-3f605ae3c7cf",
   "metadata": {},
   "outputs": [],
   "source": []
  }
 ],
 "metadata": {
  "kernelspec": {
   "display_name": "Python 3 (ipykernel)",
   "language": "python",
   "name": "python3"
  },
  "language_info": {
   "codemirror_mode": {
    "name": "ipython",
    "version": 3
   },
   "file_extension": ".py",
   "mimetype": "text/x-python",
   "name": "python",
   "nbconvert_exporter": "python",
   "pygments_lexer": "ipython3",
   "version": "3.11.5"
  }
 },
 "nbformat": 4,
 "nbformat_minor": 5
}
