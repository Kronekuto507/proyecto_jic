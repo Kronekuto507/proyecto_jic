{
 "cells": [
  {
   "cell_type": "code",
   "execution_count": 5,
   "id": "1bdfd77e-574b-494e-a653-269d35493132",
   "metadata": {},
   "outputs": [],
   "source": [
    "import torch\n",
    "from torch.utils.data import DataLoader\n",
    "from torchvision import datasets, transforms\n",
    "from pathlib import Path"
   ]
  },
  {
   "cell_type": "code",
   "execution_count": 6,
   "id": "ed2f42eb-621c-4f79-abaf-7cf5dea67d29",
   "metadata": {},
   "outputs": [],
   "source": [
    "train_dataset = Path(\"..\\\\datasets\\\\ASL_train\")\n",
    "test_dataset = Path(\"..\\\\datasets\\\\ASL_test\")"
   ]
  },
  {
   "cell_type": "code",
   "execution_count": 9,
   "id": "5c1a0dfc-cede-4324-97bb-33994442a790",
   "metadata": {},
   "outputs": [],
   "source": [
    "#transformar imagen\n",
    "SIZE = 224\n",
    "data_transform = transforms.Compose([\n",
    "    transforms.Resize(size=(SIZE,SIZE)),\n",
    "    transforms.RandomHorizontalFlip(p=0.5),\n",
    "    transforms.ToTensor()\n",
    "])"
   ]
  },
  {
   "cell_type": "code",
   "execution_count": 11,
   "id": "4ef441b3-2811-44dc-987c-46bea7639e21",
   "metadata": {},
   "outputs": [],
   "source": [
    "train_data = datasets.ImageFolder(root = train_dataset, transform = data_transform, target_transform = None)\n",
    "test_data = datasets.ImageFolder(root = test_dataset, transform = data_transform)"
   ]
  },
  {
   "cell_type": "code",
   "execution_count": null,
   "id": "ac65ff8e-a5f7-4ce2-acea-ea7d9ce098a2",
   "metadata": {},
   "outputs": [],
   "source": [
    "#Check classes\n",
    "class_dict = train_data.class_to_idx\n",
    "class_dict"
   ]
  }
 ],
 "metadata": {
  "kernelspec": {
   "display_name": "Python 3 (ipykernel)",
   "language": "python",
   "name": "python3"
  },
  "language_info": {
   "codemirror_mode": {
    "name": "ipython",
    "version": 3
   },
   "file_extension": ".py",
   "mimetype": "text/x-python",
   "name": "python",
   "nbconvert_exporter": "python",
   "pygments_lexer": "ipython3",
   "version": "3.11.5"
  }
 },
 "nbformat": 4,
 "nbformat_minor": 5
}
