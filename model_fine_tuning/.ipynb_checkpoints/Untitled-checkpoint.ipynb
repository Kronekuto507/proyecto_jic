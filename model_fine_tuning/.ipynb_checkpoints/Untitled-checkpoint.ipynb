{
 "cells": [
  {
   "cell_type": "code",
   "execution_count": 3,
   "id": "373dd019-04d7-468d-b3cb-3d7478965df0",
   "metadata": {},
   "outputs": [
    {
     "name": "stderr",
     "output_type": "stream",
     "text": [
      "C:\\Users\\aaron\\AppData\\Local\\Temp\\ipykernel_35280\\855842913.py:33: UserWarning: The DataFrame has column names of mixed type. They will be converted to strings and not roundtrip correctly.\n",
      "  table = pa.Table.from_pandas(df)\n"
     ]
    }
   ],
   "source": [
    "import os\n",
    "import numpy as np\n",
    "import pandas as pd\n",
    "import pyarrow as pa\n",
    "import pyarrow.parquet as pq\n",
    "from PIL import Image\n",
    "\n",
    "def read_images_from_folder(folder_path):\n",
    "    images = []\n",
    "    filenames = []\n",
    "    for filename in os.listdir(folder_path):\n",
    "        if filename.endswith(('.png', '.jpg', '.jpeg', '.bmp', '.gif')):\n",
    "            file_path = os.path.join(folder_path, filename)\n",
    "            try:\n",
    "                with Image.open(file_path) as img:\n",
    "                    img = img.convert('RGB')  # Ensure all images are in RGB format\n",
    "                    img_array = np.array(img)\n",
    "                    img_flatten = img_array.flatten()  # Flatten the 2D image array into 1D\n",
    "                    images.append(img_flatten)\n",
    "                    filenames.append(filename)\n",
    "            except Exception as e:\n",
    "                print(f\"Error processing file {file_path}: {e}\")\n",
    "\n",
    "    return filenames, np.array(images)\n",
    "\n",
    "def create_dataframe(filenames, images):\n",
    "    df = pd.DataFrame(images)\n",
    "    df.insert(0, 'filename', filenames)\n",
    "    return df\n",
    "\n",
    "def write_to_parquet(df, output_file):\n",
    "    table = pa.Table.from_pandas(df)\n",
    "    pq.write_table(table, output_file)\n",
    "\n",
    "# Folder path containing the images\n",
    "folder_path = '../datasets/ASL_train/A_ASL'\n",
    "# Output Parquet file path\n",
    "output_file = '../datasets/ASL_train_A_ASL.parquet'\n",
    "\n",
    "# Read images and create DataFrame\n",
    "filenames, images = read_images_from_folder(folder_path)\n",
    "df = create_dataframe(filenames, images)\n",
    "\n",
    "# Write DataFrame to Parquet file\n",
    "write_to_parquet(df, output_file)\n"
   ]
  },
  {
   "cell_type": "code",
   "execution_count": null,
   "id": "358fe277-2b57-4dd8-88bc-4d0b3b080b36",
   "metadata": {},
   "outputs": [],
   "source": []
  }
 ],
 "metadata": {
  "kernelspec": {
   "display_name": "Python 3 (ipykernel)",
   "language": "python",
   "name": "python3"
  },
  "language_info": {
   "codemirror_mode": {
    "name": "ipython",
    "version": 3
   },
   "file_extension": ".py",
   "mimetype": "text/x-python",
   "name": "python",
   "nbconvert_exporter": "python",
   "pygments_lexer": "ipython3",
   "version": "3.11.5"
  }
 },
 "nbformat": 4,
 "nbformat_minor": 5
}
