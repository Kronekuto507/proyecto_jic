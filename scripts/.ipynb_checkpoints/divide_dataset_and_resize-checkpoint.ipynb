{
 "cells": [
  {
   "cell_type": "code",
   "execution_count": 5,
   "id": "2432ee12-0f0d-4127-87ca-30f3529eca86",
   "metadata": {},
   "outputs": [],
   "source": [
    "import os\n",
    "import shutil\n",
    "from sklearn.model_selection import train_test_split\n",
    "from pathlib import Path\n",
    "from PIL import Image\n",
    "import cv2\n",
    "import numpy as np\n",
    "import matplotlib.pyplot as plt\n",
    "from concurrent.futures import ThreadPoolExecutor\n",
    "\n",
    "#Notebook para preprocesar los datasets y dividirlos en TRAIN y TEST"
   ]
  },
  {
   "cell_type": "code",
   "execution_count": 6,
   "id": "784a1650-102f-44f9-93fe-95f2a1947354",
   "metadata": {},
   "outputs": [],
   "source": [
    "dataset_path = Path(\"..\\\\datasets\\\\ASL_Comp\")\n",
    "train_dataset = Path(\"..\\\\datasets\\\\ASL_train\")\n",
    "test_dataset = Path(\"..\\\\datasets\\\\ASL_test\")"
   ]
  },
  {
   "cell_type": "code",
   "execution_count": 7,
   "id": "db1e0213-06f9-46f2-b42d-7791313da34c",
   "metadata": {},
   "outputs": [],
   "source": [
    "if not os.path.exists(train_dataset):\n",
    "    os.makedirs(train_dataset)\n",
    "if not os.path.exists(test_dataset):\n",
    "    os.makedirs(test_dataset)\n",
    "\n",
    "#Codigo de ejemplo - separar en train y test dataset\n",
    "'''archivos = os.listdir(os.path.join(dataset_path,\"A_ASL\"))\n",
    "train_files,test_files = train_test_split(archivos,test_size = 0.2, random_state = 42)'''\n",
    "RESIZE = 224"
   ]
  },
  {
   "cell_type": "code",
   "execution_count": 8,
   "id": "1aee5513-94bd-465e-950f-cf1e05c318c7",
   "metadata": {},
   "outputs": [
    {
     "ename": "AttributeError",
     "evalue": "'NoneType' object has no attribute 'shape'",
     "output_type": "error",
     "traceback": [
      "\u001b[1;31m---------------------------------------------------------------------------\u001b[0m",
      "\u001b[1;31mAttributeError\u001b[0m                            Traceback (most recent call last)",
      "Cell \u001b[1;32mIn[8], line 20\u001b[0m\n\u001b[0;32m     15\u001b[0m     \u001b[38;5;28;01mreturn\u001b[39;00m new_image[:,:,::\u001b[38;5;241m-\u001b[39m\u001b[38;5;241m1\u001b[39m]\n\u001b[0;32m     17\u001b[0m \u001b[38;5;66;03m#Ejemplo:\u001b[39;00m\n\u001b[0;32m     18\u001b[0m \n\u001b[0;32m     19\u001b[0m \u001b[38;5;66;03m#Codigo de prueba\u001b[39;00m\n\u001b[1;32m---> 20\u001b[0m image_1 \u001b[38;5;241m=\u001b[39m \u001b[43mpreprocessing_image\u001b[49m\u001b[43m(\u001b[49m\u001b[43mPath\u001b[49m\u001b[43m(\u001b[49m\u001b[38;5;124;43m\"\u001b[39;49m\u001b[38;5;124;43m..\u001b[39;49m\u001b[38;5;130;43;01m\\\\\u001b[39;49;00m\u001b[38;5;124;43mdatasets\u001b[39;49m\u001b[38;5;130;43;01m\\\\\u001b[39;49;00m\u001b[38;5;124;43mASL_Dataset_Combination\u001b[39;49m\u001b[38;5;130;43;01m\\\\\u001b[39;49;00m\u001b[38;5;124;43mA_ASL\u001b[39;49m\u001b[38;5;130;43;01m\\\\\u001b[39;49;00m\u001b[38;5;124;43mA_ASL3296.jpg\u001b[39;49m\u001b[38;5;124;43m\"\u001b[39;49m\u001b[43m)\u001b[49m\u001b[43m)\u001b[49m\n\u001b[0;32m     21\u001b[0m \u001b[38;5;28mprint\u001b[39m(image_1\u001b[38;5;241m.\u001b[39mshape[:\u001b[38;5;241m2\u001b[39m])\n\u001b[0;32m     22\u001b[0m plt\u001b[38;5;241m.\u001b[39mimshow(image_1)\n",
      "Cell \u001b[1;32mIn[8], line 8\u001b[0m, in \u001b[0;36mpreprocessing_image\u001b[1;34m(image)\u001b[0m\n\u001b[0;32m      6\u001b[0m nw \u001b[38;5;241m=\u001b[39m RESIZE\n\u001b[0;32m      7\u001b[0m nh \u001b[38;5;241m=\u001b[39m RESIZE\n\u001b[1;32m----> 8\u001b[0m width,height \u001b[38;5;241m=\u001b[39m \u001b[43mimg\u001b[49m\u001b[38;5;241;43m.\u001b[39;49m\u001b[43mshape\u001b[49m[:\u001b[38;5;241m2\u001b[39m]\n\u001b[0;32m      9\u001b[0m inter_type \u001b[38;5;241m=\u001b[39m \u001b[38;5;28;01mNone\u001b[39;00m\n\u001b[0;32m     10\u001b[0m \u001b[38;5;28;01mif\u001b[39;00m width \u001b[38;5;241m>\u001b[39m nw \u001b[38;5;129;01mor\u001b[39;00m height \u001b[38;5;241m>\u001b[39m nh:\n",
      "\u001b[1;31mAttributeError\u001b[0m: 'NoneType' object has no attribute 'shape'"
     ]
    }
   ],
   "source": [
    "def preprocessing_image(image):\n",
    "    #Convertir paths a raw strings\n",
    "    image_path = str(image)\n",
    "    image_r = rf\"{image_path}\"\n",
    "    img = cv2.imread(image_r, cv2.IMREAD_COLOR)\n",
    "    nw = RESIZE\n",
    "    nh = RESIZE\n",
    "    width,height = img.shape[:2]\n",
    "    inter_type = None\n",
    "    if width > nw or height > nh:\n",
    "        inter_type = cv2.INTER_AREA\n",
    "    else:\n",
    "        inter_type = cv2.INTER_CUBIC\n",
    "    new_image = cv2.resize(img,(nw,nh),inter_type)\n",
    "    return new_image[:,:,::-1]\n",
    "\n",
    "#Ejemplo: "
   ]
  },
  {
   "cell_type": "code",
   "execution_count": 9,
   "id": "95a23231-8cc1-468c-94b2-744742c3f1f1",
   "metadata": {},
   "outputs": [],
   "source": [
    "def convert(file_array,c_path,n_path):\n",
    "    for file in file_array:\n",
    "        f_path = os.path.join(c_path,file)\n",
    "        try:\n",
    "            imagen = Image.fromarray(preprocessing_image(Path(f_path)))\n",
    "            #print(\"Imagen preprocesada con exito a formato 224 x 224\")\n",
    "            file_nombre = file[:-4] + \".jpg\"\n",
    "            imagen.save(os.path.join(n_path,file_nombre))\n",
    "        except Exception as e:\n",
    "            print(f\"Hubo un error en el momento de preprocesarse. Error: {e}\")"
   ]
  },
  {
   "cell_type": "code",
   "execution_count": 10,
   "id": "dffcfefa-1a50-4930-ac54-54b390b5abc6",
   "metadata": {},
   "outputs": [],
   "source": [
    "def convert_wrapper(files, src_path, dest_path):\n",
    "    try:\n",
    "        convert(files, src_path, dest_path)\n",
    "    except Exception as e:\n",
    "        print(f\"Error al convertir de {src_path} a {dest_path}: {e}\")"
   ]
  },
  {
   "cell_type": "code",
   "execution_count": 11,
   "id": "49b1b871-18ba-4b4d-8383-643e81d3188b",
   "metadata": {},
   "outputs": [],
   "source": [
    "def process_class(class_name):\n",
    "    try:\n",
    "        c_path = os.path.join(dataset_path, class_name)\n",
    "        train_path = os.path.join(train_dataset, class_name)\n",
    "        test_path = os.path.join(test_dataset, class_name)\n",
    "\n",
    "        if not os.path.exists(train_path):\n",
    "            os.makedirs(train_path)\n",
    "        if not os.path.exists(test_path):\n",
    "            os.makedirs(test_path)\n",
    "        \n",
    "        files = os.listdir(c_path)\n",
    "        train_files, test_files = train_test_split(files, test_size=0.2, random_state=42)\n",
    "        \n",
    "        # Use ThreadPoolExecutor to convert train and test files concurrently\n",
    "        with ThreadPoolExecutor(max_workers = 2) as executor:\n",
    "            futures = []\n",
    "            futures.append(executor.submit(convert_wrapper, train_files, c_path, train_path))\n",
    "            futures.append(executor.submit(convert_wrapper, test_files, c_path, test_path))\n",
    "            \n",
    "            # Wait for both futures to complete\n",
    "            for future in futures:\n",
    "                future.result()  # This will re-raise any exception that occurred in the thread\n",
    "    \n",
    "    except Exception as e:\n",
    "        print(f\"Error processing class {class_name}: {e}\")"
   ]
  },
  {
   "cell_type": "code",
   "execution_count": 12,
   "id": "fb775f3c-53ae-49c1-bef2-19b591cd2150",
   "metadata": {},
   "outputs": [],
   "source": [
    "class_names = os.listdir(dataset_path)\n",
    "num_workers = 2"
   ]
  },
  {
   "cell_type": "code",
   "execution_count": 13,
   "id": "e716e108-8eef-4271-92fd-8d8dcb8ca81e",
   "metadata": {},
   "outputs": [
    {
     "name": "stdout",
     "output_type": "stream",
     "text": [
      "Todo procesado con exito\n"
     ]
    }
   ],
   "source": [
    "with ThreadPoolExecutor(max_workers = num_workers) as executor:\n",
    "    futures = [executor.submit(process_class,class_name) for class_name in class_names]\n",
    "    for future in futures:\n",
    "        future.result()\n",
    "\n",
    "print(\"Todo procesado con exito\")"
   ]
  },
  {
   "cell_type": "code",
   "execution_count": 4,
   "id": "23d8fc9d-916b-410e-9d72-c33304186dcc",
   "metadata": {},
   "outputs": [
    {
     "data": {
      "text/plain": [
       "'for class_name in os.listdir(dataset_path):\\n    c_path = os.path.join(dataset_path,class_name)\\n    train_path = os.path.join(train_dataset,class_name)\\n    test_path = os.path.join(test_dataset,class_name)\\n    #Crear path de los directorios train y test si no existen\\n    if not os.path.exists(train_path):\\n        os.makedirs(train_path)\\n    if not os.path.exists(test_path):\\n        os.makedirs(test_path)\\n    files = os.listdir(c_path)\\n    train_files,test_files = train_test_split(files,test_size = 0.2, random_state = 42)\\n    #Convertir imagen y guardarlas en sus respectivas rutas\\n    convert(train_files,c_path,train_path)\\n    convert(test_files,c_path,test_path)'"
      ]
     },
     "execution_count": 4,
     "metadata": {},
     "output_type": "execute_result"
    }
   ],
   "source": [
    "'''for class_name in os.listdir(dataset_path):\n",
    "    c_path = os.path.join(dataset_path,class_name)\n",
    "    train_path = os.path.join(train_dataset,class_name)\n",
    "    test_path = os.path.join(test_dataset,class_name)\n",
    "    #Crear path de los directorios train y test si no existen\n",
    "    if not os.path.exists(train_path):\n",
    "        os.makedirs(train_path)\n",
    "    if not os.path.exists(test_path):\n",
    "        os.makedirs(test_path)\n",
    "    files = os.listdir(c_path)\n",
    "    train_files,test_files = train_test_split(files,test_size = 0.2, random_state = 42)\n",
    "    #Convertir imagen y guardarlas en sus respectivas rutas\n",
    "    convert(train_files,c_path,train_path)\n",
    "    convert(test_files,c_path,test_path)'''\n",
    "        "
   ]
  },
  {
   "cell_type": "code",
   "execution_count": null,
   "id": "bab8f2e5-df66-4ce9-8151-1b7bd01d5390",
   "metadata": {},
   "outputs": [],
   "source": []
  },
  {
   "cell_type": "code",
   "execution_count": null,
   "id": "18fc34a0-77c8-42f1-96be-493a7fafe809",
   "metadata": {},
   "outputs": [],
   "source": []
  }
 ],
 "metadata": {
  "kernelspec": {
   "display_name": "Python 3 (ipykernel)",
   "language": "python",
   "name": "python3"
  },
  "language_info": {
   "codemirror_mode": {
    "name": "ipython",
    "version": 3
   },
   "file_extension": ".py",
   "mimetype": "text/x-python",
   "name": "python",
   "nbconvert_exporter": "python",
   "pygments_lexer": "ipython3",
   "version": "3.11.5"
  }
 },
 "nbformat": 4,
 "nbformat_minor": 5
}
